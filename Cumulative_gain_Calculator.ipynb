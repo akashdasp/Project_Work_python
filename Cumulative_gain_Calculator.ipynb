{
 "cells": [
  {
   "cell_type": "markdown",
   "id": "86b68ef0",
   "metadata": {},
   "source": [
    "#### this is the code  for calculating the Cumulative gain for the Mountain Track "
   ]
  },
  {
   "cell_type": "code",
   "execution_count": null,
   "id": "c8a6b907",
   "metadata": {},
   "outputs": [],
   "source": [
    "Start_altitute=int(input(\"enter the Altitite of the Staring point\"))\n",
    "peak_peats=[]\n",
    "peak_peats.append(Start_altitute)\n",
    "cumulative_gain=0\n",
    "cumulative_gain1=0\n",
    "i=0\n",
    "j=0\n",
    "total_peaks_peats=int(input(\"Enter total No of peaks&pits in the Journey  \"))\n",
    "\n",
    "# iterating till the range\n",
    "for i in range(0, total_peaks_peats):\n",
    "    ele = int(input())\n",
    "  \n",
    "    peak_peats.append(ele) # adding the element\n",
    "End_altitute=int(input(\"Enter  the Ending altitute\")) \n",
    "peak_peats.append(End_altitute)\n",
    "print(peak_peats)\n",
    "for  j in range(0,len(peak_peats)):\n",
    "        if peak_peats[j-1] < peak_peats[j]:\n",
    "                  cumulative_gain1=peak_peats[j]-peak_peats[j-1]\n",
    "                  cumulative_gain=cumulative_gain+cumulative_gain1\n",
    "                    #cumulative_gain=sum(peak_peats)\n",
    "print(cumulative_gain)"
   ]
  }
 ],
 "metadata": {
  "kernelspec": {
   "display_name": "Python 3 (ipykernel)",
   "language": "python",
   "name": "python3"
  },
  "language_info": {
   "codemirror_mode": {
    "name": "ipython",
    "version": 3
   },
   "file_extension": ".py",
   "mimetype": "text/x-python",
   "name": "python",
   "nbconvert_exporter": "python",
   "pygments_lexer": "ipython3",
   "version": "3.9.12"
  }
 },
 "nbformat": 4,
 "nbformat_minor": 5
}
